{
 "cells": [
  {
   "cell_type": "code",
   "execution_count": 8,
   "metadata": {},
   "outputs": [],
   "source": [
    "import pandas as pd\n",
    "import numpy as np"
   ]
  },
  {
   "cell_type": "code",
   "execution_count": 6,
   "metadata": {},
   "outputs": [],
   "source": [
    "%reset -f"
   ]
  },
  {
   "cell_type": "code",
   "execution_count": 9,
   "metadata": {},
   "outputs": [],
   "source": [
    "np.random.seed(1234)\n",
    "base = np.random.rand(6, 3)  # 6 rows of 3 dimensional vectors\n",
    "base_first_column = [f'Base-{i}' for i in np.arange(6)]\n",
    "base = pd.DataFrame(base)\n",
    "base.insert(0, 'id', base_first_column)\n",
    "\n",
    "I = np.random.randint(6, size=(2, 5))  # ndarray of the shape (2, 5)\n",
    "\n",
    "train = np.random.rand(2, 3)  # 2 rows of 3 dimensional vectors\n",
    "train_index = [f'Query-{i}' for i in np.arange(2)]\n",
    "train = pd.DataFrame(train)\n",
    "train.insert(0, 'id', train_index)\n",
    "train['Target'] = base.sample(2, random_state=1234)['id'].values\n",
    "\n",
    "train_target = train['Target']\n",
    "train_features = train.drop('Target', axis=1)\n",
    "\n",
    "train_tiled = np.tile(train.values, 5).reshape(2, 5, 5)  # tiled (repeated) rows in train\n",
    "\n",
    "I_flat = I.ravel()  # flatten I\n",
    "result_values = base.values[I_flat]  # take only those from base that are in flatten\n",
    "new_I = result_values.reshape(2, 5, 4)  # create new 3d array\n",
    "\n",
    "# Check if the last values of axis=2 in 'train_tiled' are equal to the last values of axis=2 in 'new_I'\n",
    "last_values_equal = np.equal(train_tiled[..., -1], new_I[..., 0])\n",
    "\n",
    "# Add a new axis with values 1 or 0 depending on 'last_values_equal' - to make it 3d\n",
    "new_axis = np.expand_dims(last_values_equal.astype(int), axis=2)\n",
    "\n",
    "# Concatenate the two arrays on axis=2 along with the new axis\n",
    "train_final = np.concatenate([train_tiled[..., :-1], new_I[..., 1:], new_axis], axis=2)"
   ]
  },
  {
   "cell_type": "code",
   "execution_count": 10,
   "metadata": {},
   "outputs": [
    {
     "data": {
      "text/plain": [
       "(2, 5, 8)"
      ]
     },
     "execution_count": 10,
     "metadata": {},
     "output_type": "execute_result"
    }
   ],
   "source": [
    "train_final.shape"
   ]
  },
  {
   "cell_type": "code",
   "execution_count": 17,
   "metadata": {},
   "outputs": [],
   "source": [
    "train_final = train_final.reshape(10, 8)"
   ]
  },
  {
   "cell_type": "code",
   "execution_count": 21,
   "metadata": {},
   "outputs": [
    {
     "data": {
      "text/html": [
       "<div>\n",
       "<style scoped>\n",
       "    .dataframe tbody tr th:only-of-type {\n",
       "        vertical-align: middle;\n",
       "    }\n",
       "\n",
       "    .dataframe tbody tr th {\n",
       "        vertical-align: top;\n",
       "    }\n",
       "\n",
       "    .dataframe thead th {\n",
       "        text-align: right;\n",
       "    }\n",
       "</style>\n",
       "<table border=\"1\" class=\"dataframe\">\n",
       "  <thead>\n",
       "    <tr style=\"text-align: right;\">\n",
       "      <th></th>\n",
       "      <th>0</th>\n",
       "      <th>1</th>\n",
       "      <th>2</th>\n",
       "      <th>3</th>\n",
       "      <th>4</th>\n",
       "      <th>5</th>\n",
       "      <th>6</th>\n",
       "      <th>7</th>\n",
       "    </tr>\n",
       "  </thead>\n",
       "  <tbody>\n",
       "    <tr>\n",
       "      <th>0</th>\n",
       "      <td>Query-0</td>\n",
       "      <td>0.93314</td>\n",
       "      <td>0.651378</td>\n",
       "      <td>0.397203</td>\n",
       "      <td>0.276464</td>\n",
       "      <td>0.801872</td>\n",
       "      <td>0.958139</td>\n",
       "      <td>1</td>\n",
       "    </tr>\n",
       "    <tr>\n",
       "      <th>1</th>\n",
       "      <td>Query-0</td>\n",
       "      <td>0.93314</td>\n",
       "      <td>0.651378</td>\n",
       "      <td>0.397203</td>\n",
       "      <td>0.276464</td>\n",
       "      <td>0.801872</td>\n",
       "      <td>0.958139</td>\n",
       "      <td>1</td>\n",
       "    </tr>\n",
       "    <tr>\n",
       "      <th>2</th>\n",
       "      <td>Query-0</td>\n",
       "      <td>0.93314</td>\n",
       "      <td>0.651378</td>\n",
       "      <td>0.397203</td>\n",
       "      <td>0.875933</td>\n",
       "      <td>0.357817</td>\n",
       "      <td>0.500995</td>\n",
       "      <td>0</td>\n",
       "    </tr>\n",
       "    <tr>\n",
       "      <th>3</th>\n",
       "      <td>Query-0</td>\n",
       "      <td>0.93314</td>\n",
       "      <td>0.651378</td>\n",
       "      <td>0.397203</td>\n",
       "      <td>0.875933</td>\n",
       "      <td>0.357817</td>\n",
       "      <td>0.500995</td>\n",
       "      <td>0</td>\n",
       "    </tr>\n",
       "    <tr>\n",
       "      <th>4</th>\n",
       "      <td>Query-0</td>\n",
       "      <td>0.93314</td>\n",
       "      <td>0.651378</td>\n",
       "      <td>0.397203</td>\n",
       "      <td>0.191519</td>\n",
       "      <td>0.622109</td>\n",
       "      <td>0.437728</td>\n",
       "      <td>0</td>\n",
       "    </tr>\n",
       "    <tr>\n",
       "      <th>5</th>\n",
       "      <td>Query-1</td>\n",
       "      <td>0.78873</td>\n",
       "      <td>0.316836</td>\n",
       "      <td>0.568099</td>\n",
       "      <td>0.785359</td>\n",
       "      <td>0.779976</td>\n",
       "      <td>0.272593</td>\n",
       "      <td>1</td>\n",
       "    </tr>\n",
       "    <tr>\n",
       "      <th>6</th>\n",
       "      <td>Query-1</td>\n",
       "      <td>0.78873</td>\n",
       "      <td>0.316836</td>\n",
       "      <td>0.568099</td>\n",
       "      <td>0.875933</td>\n",
       "      <td>0.357817</td>\n",
       "      <td>0.500995</td>\n",
       "      <td>0</td>\n",
       "    </tr>\n",
       "    <tr>\n",
       "      <th>7</th>\n",
       "      <td>Query-1</td>\n",
       "      <td>0.78873</td>\n",
       "      <td>0.316836</td>\n",
       "      <td>0.568099</td>\n",
       "      <td>0.191519</td>\n",
       "      <td>0.622109</td>\n",
       "      <td>0.437728</td>\n",
       "      <td>0</td>\n",
       "    </tr>\n",
       "    <tr>\n",
       "      <th>8</th>\n",
       "      <td>Query-1</td>\n",
       "      <td>0.78873</td>\n",
       "      <td>0.316836</td>\n",
       "      <td>0.568099</td>\n",
       "      <td>0.875933</td>\n",
       "      <td>0.357817</td>\n",
       "      <td>0.500995</td>\n",
       "      <td>0</td>\n",
       "    </tr>\n",
       "    <tr>\n",
       "      <th>9</th>\n",
       "      <td>Query-1</td>\n",
       "      <td>0.78873</td>\n",
       "      <td>0.316836</td>\n",
       "      <td>0.568099</td>\n",
       "      <td>0.276464</td>\n",
       "      <td>0.801872</td>\n",
       "      <td>0.958139</td>\n",
       "      <td>0</td>\n",
       "    </tr>\n",
       "  </tbody>\n",
       "</table>\n",
       "</div>"
      ],
      "text/plain": [
       "         0        1         2         3         4         5         6  7\n",
       "0  Query-0  0.93314  0.651378  0.397203  0.276464  0.801872  0.958139  1\n",
       "1  Query-0  0.93314  0.651378  0.397203  0.276464  0.801872  0.958139  1\n",
       "2  Query-0  0.93314  0.651378  0.397203  0.875933  0.357817  0.500995  0\n",
       "3  Query-0  0.93314  0.651378  0.397203  0.875933  0.357817  0.500995  0\n",
       "4  Query-0  0.93314  0.651378  0.397203  0.191519  0.622109  0.437728  0\n",
       "5  Query-1  0.78873  0.316836  0.568099  0.785359  0.779976  0.272593  1\n",
       "6  Query-1  0.78873  0.316836  0.568099  0.875933  0.357817  0.500995  0\n",
       "7  Query-1  0.78873  0.316836  0.568099  0.191519  0.622109  0.437728  0\n",
       "8  Query-1  0.78873  0.316836  0.568099  0.875933  0.357817  0.500995  0\n",
       "9  Query-1  0.78873  0.316836  0.568099  0.276464  0.801872  0.958139  0"
      ]
     },
     "execution_count": 21,
     "metadata": {},
     "output_type": "execute_result"
    }
   ],
   "source": [
    "train_final_df = pd.DataFrame(train_final)\n",
    "train_final_df"
   ]
  },
  {
   "cell_type": "code",
   "execution_count": 25,
   "metadata": {},
   "outputs": [
    {
     "data": {
      "text/plain": [
       "0.3"
      ]
     },
     "execution_count": 25,
     "metadata": {},
     "output_type": "execute_result"
    }
   ],
   "source": [
    "np.average(train_final[:, -1])"
   ]
  },
  {
   "cell_type": "code",
   "execution_count": 27,
   "metadata": {},
   "outputs": [
    {
     "data": {
      "text/plain": [
       "array([1, 1, 0, 0, 0, 1, 0, 0, 0, 0], dtype=object)"
      ]
     },
     "execution_count": 27,
     "metadata": {},
     "output_type": "execute_result"
    }
   ],
   "source": [
    "train_final[..., -1]"
   ]
  },
  {
   "cell_type": "code",
   "execution_count": 20,
   "metadata": {},
   "outputs": [
    {
     "data": {
      "text/plain": [
       "array([1, 1, 0, 0, 0, 1, 0, 0, 0, 0], dtype=object)"
      ]
     },
     "execution_count": 20,
     "metadata": {},
     "output_type": "execute_result"
    }
   ],
   "source": [
    "y = train_final[:, -1]\n",
    "y\n"
   ]
  },
  {
   "cell_type": "code",
   "execution_count": 201,
   "metadata": {},
   "outputs": [
    {
     "data": {
      "text/plain": [
       "array([[['Query-0', 0.9331401019825216, 0.6513781432265774,\n",
       "         0.3972025777261542, 0.2764642551430967, 0.8018721775350193,\n",
       "         0.9581393536837052, 1],\n",
       "        ['Query-0', 0.9331401019825216, 0.6513781432265774,\n",
       "         0.3972025777261542, 0.2764642551430967, 0.8018721775350193,\n",
       "         0.9581393536837052, 1],\n",
       "        ['Query-0', 0.9331401019825216, 0.6513781432265774,\n",
       "         0.3972025777261542, 0.8759326347420947, 0.35781726995786667,\n",
       "         0.5009951255234587, 0],\n",
       "        ['Query-0', 0.9331401019825216, 0.6513781432265774,\n",
       "         0.3972025777261542, 0.8759326347420947, 0.35781726995786667,\n",
       "         0.5009951255234587, 0],\n",
       "        ['Query-0', 0.9331401019825216, 0.6513781432265774,\n",
       "         0.3972025777261542, 0.1915194503788923, 0.6221087710398319,\n",
       "         0.4377277390071145, 0]],\n",
       "\n",
       "       [['Query-1', 0.7887301429407455, 0.31683612216887125,\n",
       "         0.5680986526260692, 0.7853585837137692, 0.7799758081188035,\n",
       "         0.2725926052826416, 1],\n",
       "        ['Query-1', 0.7887301429407455, 0.31683612216887125,\n",
       "         0.5680986526260692, 0.8759326347420947, 0.35781726995786667,\n",
       "         0.5009951255234587, 0],\n",
       "        ['Query-1', 0.7887301429407455, 0.31683612216887125,\n",
       "         0.5680986526260692, 0.1915194503788923, 0.6221087710398319,\n",
       "         0.4377277390071145, 0],\n",
       "        ['Query-1', 0.7887301429407455, 0.31683612216887125,\n",
       "         0.5680986526260692, 0.8759326347420947, 0.35781726995786667,\n",
       "         0.5009951255234587, 0],\n",
       "        ['Query-1', 0.7887301429407455, 0.31683612216887125,\n",
       "         0.5680986526260692, 0.2764642551430967, 0.8018721775350193,\n",
       "         0.9581393536837052, 0]]], dtype=object)"
      ]
     },
     "execution_count": 201,
     "metadata": {},
     "output_type": "execute_result"
    }
   ],
   "source": [
    "train_final"
   ]
  },
  {
   "cell_type": "code",
   "execution_count": 113,
   "metadata": {},
   "outputs": [
    {
     "data": {
      "text/plain": [
       "(2, 5, 4)"
      ]
     },
     "execution_count": 113,
     "metadata": {},
     "output_type": "execute_result"
    }
   ],
   "source": [
    "result_values_reshaped.shape"
   ]
  },
  {
   "cell_type": "code",
   "execution_count": 33,
   "metadata": {},
   "outputs": [
    {
     "name": "stderr",
     "output_type": "stream",
     "text": [
      "/Users/basangbasangov/anaconda3/lib/python3.9/site-packages/scipy/__init__.py:155: UserWarning: A NumPy version >=1.18.5 and <1.25.0 is required for this version of SciPy (detected version 1.25.2\n",
      "  warnings.warn(f\"A NumPy version >={np_minversion} and <{np_maxversion}\"\n"
     ]
    }
   ],
   "source": [
    "from sklearn.model_selection import train_test_split\n",
    "\n",
    "X_train, X_validation, y_train, y_validation = train_test_split(train_features, train_target, train_size=0.5, random_state=42)"
   ]
  },
  {
   "cell_type": "code",
   "execution_count": 180,
   "metadata": {},
   "outputs": [
    {
     "data": {
      "text/plain": [
       "array([[['Query-0', 0.9331401019825216, 0.6513781432265774,\n",
       "         0.3972025777261542, 0.2764642551430967, 0.8018721775350193,\n",
       "         0.9581393536837052],\n",
       "        ['Query-0', 0.9331401019825216, 0.6513781432265774,\n",
       "         0.3972025777261542, 0.2764642551430967, 0.8018721775350193,\n",
       "         0.9581393536837052],\n",
       "        ['Query-0', 0.9331401019825216, 0.6513781432265774,\n",
       "         0.3972025777261542, 0.8759326347420947, 0.35781726995786667,\n",
       "         0.5009951255234587],\n",
       "        ['Query-0', 0.9331401019825216, 0.6513781432265774,\n",
       "         0.3972025777261542, 0.8759326347420947, 0.35781726995786667,\n",
       "         0.5009951255234587],\n",
       "        ['Query-0', 0.9331401019825216, 0.6513781432265774,\n",
       "         0.3972025777261542, 0.1915194503788923, 0.6221087710398319,\n",
       "         0.4377277390071145]],\n",
       "\n",
       "       [['Query-1', 0.7887301429407455, 0.31683612216887125,\n",
       "         0.5680986526260692, 0.7853585837137692, 0.7799758081188035,\n",
       "         0.2725926052826416],\n",
       "        ['Query-1', 0.7887301429407455, 0.31683612216887125,\n",
       "         0.5680986526260692, 0.8759326347420947, 0.35781726995786667,\n",
       "         0.5009951255234587],\n",
       "        ['Query-1', 0.7887301429407455, 0.31683612216887125,\n",
       "         0.5680986526260692, 0.1915194503788923, 0.6221087710398319,\n",
       "         0.4377277390071145],\n",
       "        ['Query-1', 0.7887301429407455, 0.31683612216887125,\n",
       "         0.5680986526260692, 0.8759326347420947, 0.35781726995786667,\n",
       "         0.5009951255234587],\n",
       "        ['Query-1', 0.7887301429407455, 0.31683612216887125,\n",
       "         0.5680986526260692, 0.2764642551430967, 0.8018721775350193,\n",
       "         0.9581393536837052]]], dtype=object)"
      ]
     },
     "execution_count": 180,
     "metadata": {},
     "output_type": "execute_result"
    }
   ],
   "source": [
    "train3 = np.concatenate((train_tiled[:, :, :-1], new_I[:, :, 1:]), axis=2)\n",
    "train3"
   ]
  },
  {
   "cell_type": "code",
   "execution_count": 182,
   "metadata": {},
   "outputs": [
    {
     "data": {
      "text/plain": [
       "array([['Base-2', 'Base-2', 'Base-3', 'Base-3', 'Base-0'],\n",
       "       ['Base-1', 'Base-3', 'Base-0', 'Base-3', 'Base-2']], dtype=object)"
      ]
     },
     "execution_count": 182,
     "metadata": {},
     "output_type": "execute_result"
    }
   ],
   "source": [
    "new_I[..., 0]"
   ]
  },
  {
   "cell_type": "code",
   "execution_count": 145,
   "metadata": {},
   "outputs": [
    {
     "data": {
      "text/plain": [
       "array([[1, 2],\n",
       "       [3, 4],\n",
       "       [5, 6]])"
      ]
     },
     "execution_count": 145,
     "metadata": {},
     "output_type": "execute_result"
    }
   ],
   "source": [
    "a = np.array([[1, 2], [3, 4]])\n",
    "b = np.array([[5, 6]])\n",
    "np.concatenate((a, b), axis=0)\n"
   ]
  },
  {
   "cell_type": "code",
   "execution_count": 161,
   "metadata": {},
   "outputs": [
    {
     "name": "stdout",
     "output_type": "stream",
     "text": [
      "(2, 5, 6)\n",
      "[[[ 1  2  3  1  2  3]\n",
      "  [ 4  5  6  4  5  6]\n",
      "  [ 7  8  9  7  8  9]\n",
      "  [10 11 12 10 11 12]\n",
      "  [13 14 15 13 14 15]]\n",
      "\n",
      " [[16 17 18 16 17 18]\n",
      "  [19 20 21 19 20 21]\n",
      "  [22 23 24 22 23 24]\n",
      "  [25 26 27 25 26 27]\n",
      "  [28 29 30 28 29 30]]]\n"
     ]
    }
   ],
   "source": [
    "# (2, 5, 3)\n",
    "a = np.arange(1, 31)\n",
    "a = a.reshape(2, 5, 3)\n",
    "\n",
    "b = np.arange(1, 31)\n",
    "b = b.reshape(2, 5, 3)\n",
    "c = np.concatenate((a, b), axis=2)\n",
    "print(c.shape)\n",
    "print(c)"
   ]
  },
  {
   "cell_type": "code",
   "execution_count": 156,
   "metadata": {},
   "outputs": [
    {
     "data": {
      "text/plain": [
       "(2, 5, 3)"
      ]
     },
     "execution_count": 156,
     "metadata": {},
     "output_type": "execute_result"
    }
   ],
   "source": [
    "a.shape"
   ]
  },
  {
   "cell_type": "code",
   "execution_count": 148,
   "metadata": {},
   "outputs": [
    {
     "data": {
      "text/plain": [
       "(1, 2)"
      ]
     },
     "execution_count": 148,
     "metadata": {},
     "output_type": "execute_result"
    }
   ],
   "source": [
    "b.shape"
   ]
  },
  {
   "cell_type": "code",
   "execution_count": 164,
   "metadata": {},
   "outputs": [],
   "source": [
    "# Assuming 'arr1' and 'arr2' are your two 3-dimensional numpy arrays\n",
    "\n",
    "# Check if the last values of axis=2 in 'arr1' are equal to the last values of axis=2 in 'arr2'\n",
    "last_values_equal = np.equal(a[..., -1], b[..., -1])\n",
    "\n",
    "# Add a new axis with values 1 or 0 depending on 'last_values_equal'\n",
    "new_axis = np.expand_dims(last_values_equal.astype(int), axis=2)\n",
    "\n",
    "# Concatenate the two arrays on axis=2 along with the new axis\n",
    "combined_array = np.concatenate([a, b, new_axis], axis=2)"
   ]
  },
  {
   "cell_type": "code",
   "execution_count": 165,
   "metadata": {},
   "outputs": [
    {
     "data": {
      "text/plain": [
       "array([[[ 1,  2,  3,  1,  2,  3,  1],\n",
       "        [ 4,  5,  6,  4,  5,  6,  1],\n",
       "        [ 7,  8,  9,  7,  8,  9,  1],\n",
       "        [10, 11, 12, 10, 11, 12,  1],\n",
       "        [13, 14, 15, 13, 14, 15,  1]],\n",
       "\n",
       "       [[16, 17, 18, 16, 17, 18,  1],\n",
       "        [19, 20, 21, 19, 20, 21,  1],\n",
       "        [22, 23, 24, 22, 23, 24,  1],\n",
       "        [25, 26, 27, 25, 26, 27,  1],\n",
       "        [28, 29, 30, 28, 29, 30,  1]]])"
      ]
     },
     "execution_count": 165,
     "metadata": {},
     "output_type": "execute_result"
    }
   ],
   "source": [
    "combined_array"
   ]
  },
  {
   "cell_type": "code",
   "execution_count": 166,
   "metadata": {},
   "outputs": [
    {
     "data": {
      "text/plain": [
       "array([[[ 1,  2,  3],\n",
       "        [ 4,  5,  6],\n",
       "        [ 7,  8,  9],\n",
       "        [10, 11, 12],\n",
       "        [13, 14, 15]],\n",
       "\n",
       "       [[16, 17, 18],\n",
       "        [19, 20, 21],\n",
       "        [22, 23, 24],\n",
       "        [25, 26, 27],\n",
       "        [28, 29, 30]]])"
      ]
     },
     "execution_count": 166,
     "metadata": {},
     "output_type": "execute_result"
    }
   ],
   "source": [
    "a"
   ]
  },
  {
   "cell_type": "code",
   "execution_count": 167,
   "metadata": {},
   "outputs": [
    {
     "data": {
      "text/plain": [
       "array([[ 3,  6,  9, 12, 15],\n",
       "       [18, 21, 24, 27, 30]])"
      ]
     },
     "execution_count": 167,
     "metadata": {},
     "output_type": "execute_result"
    }
   ],
   "source": [
    "a[..., -1]"
   ]
  },
  {
   "cell_type": "code",
   "execution_count": null,
   "metadata": {},
   "outputs": [],
   "source": []
  }
 ],
 "metadata": {
  "kernelspec": {
   "display_name": "base",
   "language": "python",
   "name": "python3"
  },
  "language_info": {
   "codemirror_mode": {
    "name": "ipython",
    "version": 3
   },
   "file_extension": ".py",
   "mimetype": "text/x-python",
   "name": "python",
   "nbconvert_exporter": "python",
   "pygments_lexer": "ipython3",
   "version": "3.9.13"
  },
  "orig_nbformat": 4
 },
 "nbformat": 4,
 "nbformat_minor": 2
}
